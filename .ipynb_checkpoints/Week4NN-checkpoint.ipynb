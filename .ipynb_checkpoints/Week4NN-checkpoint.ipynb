{
 "cells": [
  {
   "cell_type": "code",
   "execution_count": 1,
   "metadata": {},
   "outputs": [],
   "source": [
    "import numpy as np\n",
    "import matplotlib.pyplot as plt \n",
    "import tensorflow as tf\n",
    "from tensorflow import keras\n",
    "from tensorflow.keras import layers\n",
    "from tensorflow.keras import regularizers\n",
    "import h5py\n",
    "import sys\n",
    "%matplotlib inline \n"
   ]
  },
  {
   "cell_type": "code",
   "execution_count": 2,
   "metadata": {
    "scrolled": false
   },
   "outputs": [
    {
     "name": "stdout",
     "output_type": "stream",
     "text": [
      "<KeysViewHDF5 ['j1_eta', 'j1_isbtag', 'j1_m', 'j1_phi', 'j1_pt', 'j2_eta', 'j2_isbtag', 'j2_m', 'j2_phi', 'j2_pt', 'j3_eta', 'j3_isbtag', 'j3_m', 'j3_phi', 'j3_pt', 'j4_eta', 'j4_isbtag', 'j4_m', 'j4_phi', 'j4_pt', 'j5_eta', 'j5_isbtag', 'j5_m', 'j5_phi', 'j5_pt', 'j6_eta', 'j6_isbtag', 'j6_m', 'j6_phi', 'j6_pt', 'j7_eta', 'j7_isbtag', 'j7_m', 'j7_phi', 'j7_pt', 'j8_eta', 'j8_isbtag', 'j8_m', 'j8_phi', 'j8_pt', 'lep_eta', 'lep_m', 'lep_phi', 'lep_pt', 'met_met', 'met_phi', 'mttReco', 'mttTrue']>\n",
      "\n",
      "<KeysViewHDF5 ['bh_eta', 'bh_phi', 'bh_pt', 'bl_eta', 'bl_phi', 'bl_pt', 'j1_DL1r', 'j1_eta', 'j1_isbtag', 'j1_m', 'j1_phi', 'j1_pt', 'j2_DL1r', 'j2_eta', 'j2_isbtag', 'j2_m', 'j2_phi', 'j2_pt', 'j3_DL1r', 'j3_eta', 'j3_isbtag', 'j3_m', 'j3_phi', 'j3_pt', 'j4_DL1r', 'j4_eta', 'j4_isbtag', 'j4_m', 'j4_phi', 'j4_pt', 'j5_DL1r', 'j5_eta', 'j5_isbtag', 'j5_m', 'j5_phi', 'j5_pt', 'j6_DL1r', 'j6_eta', 'j6_isbtag', 'j6_m', 'j6_phi', 'j6_pt', 'j7_DL1r', 'j7_eta', 'j7_isbtag', 'j7_m', 'j7_phi', 'j7_pt', 'j8_DL1r', 'j8_eta', 'j8_isbtag', 'j8_m', 'j8_phi', 'j8_pt', 'lep_eta', 'lep_m', 'lep_phi', 'lep_pt', 'met_met', 'met_phi', 'mttReco', 'mttTrue', 'th_eta', 'th_phi', 'th_pt', 'tl_eta', 'tl_phi', 'tl_pt', 'wh_eta', 'wh_phi', 'wh_pt', 'wl_eta', 'wl_phi', 'wl_pt']>\n"
     ]
    }
   ],
   "source": [
    "be = h5py.File('variables_tt_re.h5','r')\n",
    "bmu = h5py.File('variables_tt_rmu.h5','r')\n",
    "be1 = h5py.File('variables_tt_re1.h5','r')\n",
    "print(be.keys())\n",
    "print('')\n",
    "print(be1.keys())\n",
    "dataset = be1"
   ]
  },
  {
   "cell_type": "code",
   "execution_count": 3,
   "metadata": {},
   "outputs": [],
   "source": [
    "input_keys = ['j1_pt', 'j1_eta', 'j1_phi', 'j1_m', 'j1_DL1r', 'j2_pt', 'j2_eta', 'j2_phi', 'j2_m', 'j2_DL1r', 'j3_pt', 'j3_eta', 'j3_phi', 'j3_m', 'j3_DL1r', 'j4_pt', 'j4_eta', 'j4_phi', 'j4_m', 'j4_DL1r', 'j5_pt', 'j5_eta', 'j5_phi', 'j5_m', 'j5_DL1r', 'j6_pt', 'j6_eta', 'j6_phi', 'j6_m', 'j6_DL1r', 'j7_pt', 'j7_eta', 'j7_phi','j7_m', 'j7_DL1r', 'j8_pt', 'j8_eta', 'j8_phi','j8_m', 'j8_DL1r', 'lep_pt', 'lep_eta', 'lep_phi', 'lep_m', 'met_met', 'met_phi'] \n",
    "output_keys = ['th_pt', 'th_eta','th_phi', 'tl_pt', 'tl_eta', 'tl_phi']"
   ]
  },
  {
   "cell_type": "code",
   "execution_count": 4,
   "metadata": {},
   "outputs": [],
   "source": [
    "# Convert into numpy arrays and mean normalize\n",
    "crop = 100000 # len(dataset.get('j1_pt'))\n",
    "\n",
    "input_arrays = []\n",
    "output_arrays = [] \n",
    "\n",
    "for key in input_keys:\n",
    "    exec(key + ' = np.array(dataset.get(key))[0:crop].reshape((1,-1))')\n",
    "    exec('{0} = ({0} - np.mean({0}))/np.std({0})'.format(key))\n",
    "    exec('input_arrays.append({0})'.format(key))\n",
    "\n",
    "for key in output_keys:\n",
    "    exec(key + ' = np.array(dataset.get(key))[0:crop].reshape((1,-1))')\n",
    "    exec('{0} = ({0} - np.mean({0}))/np.std({0})'.format(key))\n",
    "    exec('output_arrays.append({0})'.format(key))"
   ]
  },
  {
   "cell_type": "code",
   "execution_count": 5,
   "metadata": {},
   "outputs": [],
   "source": [
    "# Create input and test array\n",
    "split = int(np.floor(0.8*crop)) # 80/20 split \n",
    "\n",
    "total_input = np.stack(input_arrays).reshape((crop, len(input_keys)))\n",
    "train_input, test_input = total_input[0:split, :], total_input[split:, :]\n",
    "\n",
    "total_output = np.stack(output_arrays).reshape((crop, len(output_keys)))\n",
    "train_output, test_output = total_output[0:split,:], total_output[split:,:]"
   ]
  },
  {
   "cell_type": "code",
   "execution_count": 6,
   "metadata": {},
   "outputs": [
    {
     "name": "stdout",
     "output_type": "stream",
     "text": [
      "(80000, 46) (80000, 6)\n",
      "(20000, 46) (20000, 6)\n"
     ]
    }
   ],
   "source": [
    "print(train_input.shape, train_output.shape)\n",
    "print(test_input.shape, test_output.shape)"
   ]
  },
  {
   "cell_type": "code",
   "execution_count": 7,
   "metadata": {},
   "outputs": [],
   "source": [
    "# Build model\n",
    "\n",
    "# optimizer = keras.optimizers.RMSprop(learning_rate = 1e-3)\n",
    "optimizer = keras.optimizers.Adam()\n",
    "\n",
    "def build_model():\n",
    "    model = keras.Sequential([\n",
    "        layers.Dense(64, activation='relu', \n",
    "                     input_shape=[len(input_keys)], \n",
    "                     kernel_regularizer=regularizers.l2(0.0001)), \n",
    "        layers.Dense(32, activation='linear'),\n",
    "        layers.Dense(6)\n",
    "    ])\n",
    "    \n",
    "    model.compile(loss='mse', optimizer= optimizer, metrics=['mse'])\n",
    "    \n",
    "    return model \n",
    "    "
   ]
  },
  {
   "cell_type": "code",
   "execution_count": 15,
   "metadata": {
    "scrolled": true
   },
   "outputs": [
    {
     "name": "stdout",
     "output_type": "stream",
     "text": [
      "Model: \"sequential_1\"\n",
      "_________________________________________________________________\n",
      "Layer (type)                 Output Shape              Param #   \n",
      "=================================================================\n",
      "dense_3 (Dense)              (None, 64)                3008      \n",
      "_________________________________________________________________\n",
      "dense_4 (Dense)              (None, 32)                2080      \n",
      "_________________________________________________________________\n",
      "dense_5 (Dense)              (None, 6)                 198       \n",
      "=================================================================\n",
      "Total params: 5,286\n",
      "Trainable params: 5,286\n",
      "Non-trainable params: 0\n",
      "_________________________________________________________________\n"
     ]
    }
   ],
   "source": [
    "model = build_model()\n",
    "model.summary()"
   ]
  },
  {
   "cell_type": "code",
   "execution_count": 16,
   "metadata": {
    "scrolled": false
   },
   "outputs": [
    {
     "name": "stdout",
     "output_type": "stream",
     "text": [
      "Train on 80000 samples, validate on 20000 samples\n",
      "Epoch 1/8\n",
      "80000/80000 [==============================] - 3s 38us/sample - loss: 1.0166 - mse: 1.0134 - val_loss: 1.0038 - val_mse: 1.0013\n",
      "Epoch 2/8\n",
      "80000/80000 [==============================] - 2s 30us/sample - loss: 1.0038 - mse: 1.0017 - val_loss: 1.0017 - val_mse: 1.0000\n",
      "Epoch 3/8\n",
      "80000/80000 [==============================] - 2s 30us/sample - loss: 1.0019 - mse: 1.0004 - val_loss: 1.0012 - val_mse: 1.0000\n",
      "Epoch 4/8\n",
      "80000/80000 [==============================] - 3s 31us/sample - loss: 1.0007 - mse: 0.9995 - val_loss: 1.0015 - val_mse: 1.0005\n",
      "Epoch 5/8\n",
      "80000/80000 [==============================] - 2s 30us/sample - loss: 1.0000 - mse: 0.9989 - val_loss: 1.0023 - val_mse: 1.0013\n",
      "Epoch 6/8\n",
      "80000/80000 [==============================] - 3s 32us/sample - loss: 0.9994 - mse: 0.9984 - val_loss: 1.0026 - val_mse: 1.0016\n",
      "Epoch 7/8\n",
      "80000/80000 [==============================] - 2s 29us/sample - loss: 0.9988 - mse: 0.9978 - val_loss: 1.0033 - val_mse: 1.0023\n",
      "Epoch 8/8\n",
      "80000/80000 [==============================] - 2s 30us/sample - loss: 0.9983 - mse: 0.9972 - val_loss: 1.0036 - val_mse: 1.0026\n"
     ]
    }
   ],
   "source": [
    "# Fit model\n",
    "\n",
    "Epochs= 8\n",
    "\n",
    "history = model.fit(train_input, train_output, verbose=1, epochs=Epochs, \n",
    "                   validation_data = (test_input, test_output), \n",
    "                   batch_size=100)\n"
   ]
  },
  {
   "cell_type": "code",
   "execution_count": 17,
   "metadata": {},
   "outputs": [
    {
     "data": {
      "text/plain": [
       "dict_keys(['loss', 'mse', 'val_loss', 'val_mse'])"
      ]
     },
     "execution_count": 17,
     "metadata": {},
     "output_type": "execute_result"
    }
   ],
   "source": [
    "history.history.keys()"
   ]
  },
  {
   "cell_type": "code",
   "execution_count": 18,
   "metadata": {},
   "outputs": [
    {
     "data": {
      "text/plain": [
       "Text(0.5, 1.0, 'MSE loss')"
      ]
     },
     "execution_count": 18,
     "metadata": {},
     "output_type": "execute_result"
    },
    {
     "data": {
      "image/png": "[encoded data removed]",
      "text/plain": [
       "<Figure size 864x576 with 1 Axes>"
      ]
     },
     "metadata": {
      "needs_background": "light"
     },
     "output_type": "display_data"
    }
   ],
   "source": [
    "plt.figure(figsize=(12,8))\n",
    "plt.plot(history.history['loss'], label='training')\n",
    "plt.plot(history.history['val_loss'], label='validation')\n",
    "plt.xlabel('epoch')\n",
    "plt.ylabel('mse loss')\n",
    "plt.legend()\n",
    "plt.title('MSE loss')"
   ]
  },
  {
   "cell_type": "code",
   "execution_count": null,
   "metadata": {},
   "outputs": [],
   "source": []
  },
  {
   "cell_type": "code",
   "execution_count": null,
   "metadata": {},
   "outputs": [],
   "source": []
  },
  {
   "cell_type": "code",
   "execution_count": null,
   "metadata": {},
   "outputs": [],
   "source": []
  }
 ],
 "metadata": {
  "kernelspec": {
   "display_name": "Python 3",
   "language": "python",
   "name": "python3"
  },
  "language_info": {
   "codemirror_mode": {
    "name": "ipython",
    "version": 3
   },
   "file_extension": ".py",
   "mimetype": "text/x-python",
   "name": "python",
   "nbconvert_exporter": "python",
   "pygments_lexer": "ipython3",
   "version": "3.7.7"
  }
 },
 "nbformat": 4,
 "nbformat_minor": 4
}
