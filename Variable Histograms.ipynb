{
 "cells": [
  {
   "cell_type": "code",
   "execution_count": 5,
   "metadata": {},
   "outputs": [],
   "source": [
    "import numpy as np\n",
    "import matplotlib.pyplot as plt \n",
    "import h5py\n",
    "import sys\n",
    "%matplotlib inline \n"
   ]
  },
  {
   "cell_type": "code",
   "execution_count": 6,
   "metadata": {},
   "outputs": [
    {
     "name": "stdout",
     "output_type": "stream",
     "text": [
      "<KeysViewHDF5 ['j1_eta', 'j1_isbtag', 'j1_m', 'j1_phi', 'j1_pt', 'j2_eta', 'j2_isbtag', 'j2_m', 'j2_phi', 'j2_pt', 'j3_eta', 'j3_isbtag', 'j3_m', 'j3_phi', 'j3_pt', 'j4_eta', 'j4_isbtag', 'j4_m', 'j4_phi', 'j4_pt', 'j5_eta', 'j5_isbtag', 'j5_m', 'j5_phi', 'j5_pt', 'j6_eta', 'j6_isbtag', 'j6_m', 'j6_phi', 'j6_pt', 'j7_eta', 'j7_isbtag', 'j7_m', 'j7_phi', 'j7_pt', 'j8_eta', 'j8_isbtag', 'j8_m', 'j8_phi', 'j8_pt', 'lep_eta', 'lep_m', 'lep_phi', 'lep_pt', 'met_met', 'met_phi', 'mttReco', 'mttTrue']>\n",
      "\n",
      "<KeysViewHDF5 ['j1_eta', 'j1_isbtag', 'j1_m', 'j1_phi', 'j1_pt', 'j2_eta', 'j2_isbtag', 'j2_m', 'j2_phi', 'j2_pt', 'j3_eta', 'j3_isbtag', 'j3_m', 'j3_phi', 'j3_pt', 'j4_eta', 'j4_isbtag', 'j4_m', 'j4_phi', 'j4_pt', 'j5_eta', 'j5_isbtag', 'j5_m', 'j5_phi', 'j5_pt', 'j6_eta', 'j6_isbtag', 'j6_m', 'j6_phi', 'j6_pt', 'j7_eta', 'j7_isbtag', 'j7_m', 'j7_phi', 'j7_pt', 'j8_eta', 'j8_isbtag', 'j8_m', 'j8_phi', 'j8_pt', 'lep_eta', 'lep_m', 'lep_phi', 'lep_pt', 'met_met', 'met_phi', 'mttReco', 'mttTrue']>\n"
     ]
    }
   ],
   "source": [
    "be = h5py.File('./../../../../data/hongtao/variables_tt_re.h5','r')\n",
    "bmu = h5py.File('./../../../../data/hongtao/variables_tt_rmu.h5','r')\n",
    "be1 = h5py.File('./../../../../data/hongtao/variables_tt_re1.h5','r')\n",
    "dataset = be1\n",
    "print(be.keys())\n",
    "print( '')\n",
    "print(bmu.keys())"
   ]
  },
  {
   "cell_type": "code",
   "execution_count": 7,
   "metadata": {},
   "outputs": [
    {
     "data": {
      "text/plain": [
       "Text(0.5, 1.0, 'Lepton pT')"
      ]
     },
     "execution_count": 7,
     "metadata": {},
     "output_type": "execute_result"
    },
    {
     "data": {
      "image/png": "[encoded data removed]",
      "text/plain": [
       "<Figure size 864x576 with 1 Axes>"
      ]
     },
     "metadata": {
      "needs_background": "light"
     },
     "output_type": "display_data"
    }
   ],
   "source": [
    "# Lepton pT \n",
    "\n",
    "key = 'lep_pt'\n",
    "plt.figure(figsize=(12,8))\n",
    "\n",
    "hist, bin_edges = np.histogram(np.array(be1.get(key)), 20)\n",
    "plt.bar(bin_edges[:-1], hist, width = 45, fill=False, ec='r', label='Electron')\n",
    "hist, bin_edges = np.histogram(np.array(be1.get(key)), bin_edges)\n",
    "plt.bar(bin_edges[:-1], hist, width = 45, fill=False, ec='b',label='Muon')\n",
    "plt.xlim(min(bin_edges)-30, max(bin_edges))\n",
    "plt.grid(axis='y', alpha=0.75)\n",
    "plt.xlabel('Lepton pT',fontsize=15)\n",
    "plt.ylabel('Frequency',fontsize=15)\n",
    "plt.xticks(fontsize=15)\n",
    "plt.yticks(fontsize=15)\n",
    "plt.legend()\n",
    "plt.title('Lepton pT',fontsize=15)\n"
   ]
  },
  {
   "cell_type": "code",
   "execution_count": 8,
   "metadata": {},
   "outputs": [
    {
     "data": {
      "image/png": "[encoded data removed]",
      "text/plain": [
       "<Figure size 864x576 with 1 Axes>"
      ]
     },
     "metadata": {
      "needs_background": "light"
     },
     "output_type": "display_data"
    }
   ],
   "source": [
    "plt.figure(figsize=(12,8))\n",
    "plt.hist(np.array(be.get('lep_pt')), bin_edges, histtype='step', color='r', label='Electron')\n",
    "plt.hist(np.array(bmu.get('lep_pt')), bin_edges, histtype='step', color='b', label='Muon')\n",
    "plt.title('Lepton pT')\n",
    "plt.xlabel=('Lepton pT')\n",
    "plt.ylabel=('Frequency')\n",
    "plt.legend()\n",
    "plt.show()"
   ]
  },
  {
   "cell_type": "code",
   "execution_count": null,
   "metadata": {},
   "outputs": [],
   "source": [
    "plt.figure(figsize=(12,8))\n",
    "plt.hist(np.array(be.get('lep_eta')), 20, histtype='step', color='r', label='Electron')\n",
    "plt.hist(np.array(bmu.get('lep_eta')), 20, histtype='step', color='b', label='Muon')\n",
    "plt.title('Lepton eta')\n",
    "plt.xlabel=('Lepton eta')\n",
    "plt.ylabel=('Frequency')\n",
    "plt.legend()\n",
    "plt.show()"
   ]
  },
  {
   "cell_type": "code",
   "execution_count": null,
   "metadata": {},
   "outputs": [],
   "source": [
    "# Jet pT \n",
    "\n",
    "colors = ['r', 'b', 'g', 'c', 'm', 'y', 'k', 'pink', 'orange']\n",
    "\n",
    "Hist, Edges = [], []\n",
    "\n",
    "plt.figure(figsize=(16,12))\n",
    "for i in range(1,9):\n",
    "    key = \"j{0}_pt\".format(i)\n",
    "    hist, bin_edges = np.histogram((np.array(dset.get(key))), 20)\n",
    "    plt.bar(bin_edges[:-1], hist, fill=False, ec=colors[i-1], label=key, width=bin_edges[1] - bin_edges[0])\n",
    "    Hist.append(hist)\n",
    "    Edges.append(bin_edges)\n",
    "\n",
    "    \n",
    "plt.grid(axis='y', alpha=0.75)\n",
    "plt.xlabel('Value',fontsize=15)\n",
    "plt.ylabel('Frequency',fontsize=15)\n",
    "plt.xticks(fontsize=15)\n",
    "plt.yticks(fontsize=15)\n",
    "plt.legend()\n",
    "plt.title('Jet pT',fontsize=15)"
   ]
  },
  {
   "cell_type": "code",
   "execution_count": null,
   "metadata": {},
   "outputs": [],
   "source": [
    "# Jet pT \n",
    "\n",
    "colors = ['r', 'b', 'g', 'c', 'm', 'y', 'k', 'pink', 'orange']\n",
    "\n",
    "Hist, Edges = [], []\n",
    "\n",
    "plt.figure(figsize=(16,12))\n",
    "for i in range(1,9):\n",
    "    key = \"j{0}_pt\".format(i)\n",
    "    hist, bin_edges = np.histogram((np.array(dset.get(key))), 20)\n",
    "    plt.bar(bin_edges[:-1], hist, fill=False, ec=colors[i-1], label=key, width=bin_edges[1] - bin_edges[0])\n",
    "    Hist.append(hist)\n",
    "    Edges.append(bin_edges)\n",
    "\n",
    "    \n",
    "plt.grid(axis='y', alpha=0.75)\n",
    "plt.xlabel('Value',fontsize=15)\n",
    "plt.ylabel('Frequency',fontsize=15)\n",
    "plt.xticks(fontsize=15)\n",
    "plt.yticks(fontsize=15)\n",
    "plt.legend()\n",
    "plt.title('Jet pT',fontsize=15)"
   ]
  },
  {
   "cell_type": "code",
   "execution_count": null,
   "metadata": {},
   "outputs": [],
   "source": []
  },
  {
   "cell_type": "code",
   "execution_count": null,
   "metadata": {},
   "outputs": [],
   "source": []
  },
  {
   "cell_type": "code",
   "execution_count": null,
   "metadata": {},
   "outputs": [],
   "source": []
  },
  {
   "cell_type": "code",
   "execution_count": null,
   "metadata": {},
   "outputs": [],
   "source": [
    "# Number of jets \n",
    "import sys \n",
    "\n",
    "dset = be1\n",
    "\n",
    "bins = np.arange(0,10)\n",
    "hist = np.zeros(9)\n",
    "\n",
    "length = len(dset.get('j1_pt'))\n",
    "print(length)\n",
    "\n",
    "arr = np.asarray([dset.get('j{0}_pt'.format(i)) for i in range(1,9)])\n",
    "print(arr.shape())\n",
    "\n",
    "\n",
    "print(hist)\n",
    "print(bins)\n",
    "\n",
    "# Electron\n",
    "\n",
    "plt.figure(figsize=(12,8))\n",
    "plt.bar(bins[:-1], hist, width = 1, fill=False, ec='b')\n",
    "plt.xlim(min(bins), max(bins))\n",
    "plt.grid(axis='y', alpha=0.75)\n",
    "plt.xlabel('Jets',fontsize=15)\n",
    "plt.ylabel('Frequency',fontsize=15)\n",
    "plt.xticks(fontsize=15)\n",
    "plt.yticks(fontsize=15)\n",
    "plt.title('Number of jets',fontsize=15)"
   ]
  },
  {
   "cell_type": "code",
   "execution_count": null,
   "metadata": {},
   "outputs": [],
   "source": [
    "# Muon\n",
    "\n",
    "dset = bmu\n",
    "\n",
    "bins = np.arange(0,10)\n",
    "hist = np.zeros(9)\n",
    "\n",
    "for i in range(len(dset.get('j1_pt'))):# len(dset.get('j1_pt'))):\n",
    "    jets = 0\n",
    "    for j in range(1,9):\n",
    "        jet = dset.get(\"j{0}_m\".format(j))[i]\n",
    "        if jet != .0:\n",
    "            jets = j\n",
    "    hist[jets] += 1\n",
    "\n",
    "plt.figure(figsize=(12,8))\n",
    "plt.bar(bins[:-1], hist, width = 1, fill=False, ec='b')\n",
    "plt.xlim(min(bins), max(bins))\n",
    "plt.grid(axis='y', alpha=0.75)\n",
    "plt.xlabel('Jets',fontsize=15)\n",
    "plt.ylabel('Frequency',fontsize=15)\n",
    "plt.xticks(fontsize=15)\n",
    "plt.yticks(fontsize=15)\n",
    "plt.title('Number of jets',fontsize=15)\n",
    "\n"
   ]
  },
  {
   "cell_type": "code",
   "execution_count": null,
   "metadata": {},
   "outputs": [],
   "source": []
  },
  {
   "cell_type": "code",
   "execution_count": null,
   "metadata": {},
   "outputs": [],
   "source": []
  },
  {
   "cell_type": "code",
   "execution_count": null,
   "metadata": {},
   "outputs": [],
   "source": []
  },
  {
   "cell_type": "code",
   "execution_count": null,
   "metadata": {},
   "outputs": [],
   "source": []
  },
  {
   "cell_type": "code",
   "execution_count": null,
   "metadata": {},
   "outputs": [],
   "source": []
  },
  {
   "cell_type": "code",
   "execution_count": null,
   "metadata": {},
   "outputs": [],
   "source": []
  },
  {
   "cell_type": "code",
   "execution_count": null,
   "metadata": {},
   "outputs": [],
   "source": []
  },
  {
   "cell_type": "code",
   "execution_count": null,
   "metadata": {},
   "outputs": [],
   "source": []
  },
  {
   "cell_type": "code",
   "execution_count": null,
   "metadata": {},
   "outputs": [],
   "source": []
  }
 ],
 "metadata": {
  "kernelspec": {
   "display_name": "Python 3",
   "language": "python",
   "name": "python3"
  },
  "language_info": {
   "codemirror_mode": {
    "name": "ipython",
    "version": 3
   },
   "file_extension": ".py",
   "mimetype": "text/x-python",
   "name": "python",
   "nbconvert_exporter": "python",
   "pygments_lexer": "ipython3",
   "version": "3.8.3"
  }
 },
 "nbformat": 4,
 "nbformat_minor": 4
}
