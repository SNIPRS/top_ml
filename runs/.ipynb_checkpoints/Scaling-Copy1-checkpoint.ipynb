{
 "cells": [
  {
   "cell_type": "code",
   "execution_count": 1,
   "metadata": {},
   "outputs": [
    {
     "name": "stdout",
     "output_type": "stream",
     "text": [
      "<KeysViewHDF5 ['j1_eta', 'j1_isbtag', 'j1_m', 'j1_phi', 'j1_pt', 'j2_eta', 'j2_isbtag', 'j2_m', 'j2_phi', 'j2_pt', 'j3_eta', 'j3_isbtag', 'j3_m', 'j3_phi', 'j3_pt', 'j4_eta', 'j4_isbtag', 'j4_m', 'j4_phi', 'j4_pt', 'j5_eta', 'j5_isbtag', 'j5_m', 'j5_phi', 'j5_pt', 'j6_eta', 'j6_isbtag', 'j6_m', 'j6_phi', 'j6_pt', 'j7_eta', 'j7_isbtag', 'j7_m', 'j7_phi', 'j7_pt', 'j8_eta', 'j8_isbtag', 'j8_m', 'j8_phi', 'j8_pt', 'lep_eta', 'lep_m', 'lep_phi', 'lep_pt', 'met_met', 'met_phi', 'mttReco', 'mttTrue']>\n",
      "\n",
      "<KeysViewHDF5 ['bh_eta', 'bh_phi', 'bh_pt', 'bl_eta', 'bl_phi', 'bl_pt', 'j1_DL1r', 'j1_eta', 'j1_isbtag', 'j1_m', 'j1_phi', 'j1_pt', 'j2_DL1r', 'j2_eta', 'j2_isbtag', 'j2_m', 'j2_phi', 'j2_pt', 'j3_DL1r', 'j3_eta', 'j3_isbtag', 'j3_m', 'j3_phi', 'j3_pt', 'j4_DL1r', 'j4_eta', 'j4_isbtag', 'j4_m', 'j4_phi', 'j4_pt', 'j5_DL1r', 'j5_eta', 'j5_isbtag', 'j5_m', 'j5_phi', 'j5_pt', 'j6_DL1r', 'j6_eta', 'j6_isbtag', 'j6_m', 'j6_phi', 'j6_pt', 'j7_DL1r', 'j7_eta', 'j7_isbtag', 'j7_m', 'j7_phi', 'j7_pt', 'j8_DL1r', 'j8_eta', 'j8_isbtag', 'j8_m', 'j8_phi', 'j8_pt', 'lep_eta', 'lep_m', 'lep_phi', 'lep_pt', 'met_met', 'met_phi', 'mttReco', 'mttTrue', 'th_eta', 'th_phi', 'th_pt', 'tl_eta', 'tl_phi', 'tl_pt', 'wh_eta', 'wh_phi', 'wh_pt', 'wl_eta', 'wl_phi', 'wl_pt']>\n"
     ]
    }
   ],
   "source": [
    "import numpy as np\n",
    "import matplotlib.pyplot as plt \n",
    "import tensorflow as tf\n",
    "from tensorflow import keras\n",
    "from tensorflow.keras import layers\n",
    "from tensorflow.keras import regularizers\n",
    "import os \n",
    "import h5py\n",
    "import sys\n",
    "%matplotlib inline  \n",
    "\n",
    "\n",
    "# os.chdir('./../../../../../data/hongtao')\n",
    "be = h5py.File('./../../../../../data/hongtao/variables_tt_re.h5','r')\n",
    "bmu = h5py.File('./../../../../../data/hongtao/variables_tt_rmu.h5','r')\n",
    "be1 = h5py.File('./../../../../../data/hongtao/variables_tt_re1.h5','r')\n",
    "print(be.keys())\n",
    "print('')\n",
    "print(be1.keys())\n",
    "dataset = be1"
   ]
  },
  {
   "cell_type": "code",
   "execution_count": 2,
   "metadata": {},
   "outputs": [],
   "source": [
    "input_keys = ['j1_pt', 'j1_eta', 'j1_phi', 'j1_m', 'j1_DL1r', 'j2_pt', 'j2_eta', 'j2_phi', 'j2_m', 'j2_DL1r', 'j3_pt', 'j3_eta', 'j3_phi', 'j3_m', 'j3_DL1r', 'j4_pt', 'j4_eta', 'j4_phi', 'j4_m', 'j4_DL1r', 'j5_pt', 'j5_eta', 'j5_phi', 'j5_m', 'j5_DL1r', 'j6_pt', 'j6_eta', 'j6_phi', 'j6_m', 'j6_DL1r', 'j7_pt', 'j7_eta', 'j7_phi','j7_m', 'j7_DL1r', 'j8_pt', 'j8_eta', 'j8_phi','j8_m', 'j8_DL1r', 'lep_pt', 'lep_eta', 'lep_phi', 'met_met', 'met_phi'] \n",
    "output_keys = ['th_pt', 'th_eta','th_phi', 'tl_pt', 'tl_eta', 'tl_phi']\n",
    "# output_keys = ['th_eta','th_phi', 'tl_eta', 'tl_phi']\n",
    "\n",
    "output_length = len(output_keys)\n",
    "input_length = len(input_keys)"
   ]
  },
  {
   "cell_type": "code",
   "execution_count": 3,
   "metadata": {},
   "outputs": [
    {
     "data": {
      "text/plain": [
       "(array([10029., 10081., 10188., 10295., 10102., 10031.,  9837., 10011.,\n",
       "         9738.,  9688.]),\n",
       " array([-3.14158916e+00, -2.51327868e+00, -1.88496819e+00, -1.25665770e+00,\n",
       "        -6.28347206e-01, -3.67164612e-05,  6.28273773e-01,  1.25658426e+00,\n",
       "         1.88489475e+00,  2.51320524e+00,  3.14151573e+00]),\n",
       " <a list of 1 Patch objects>)"
      ]
     },
     "execution_count": 3,
     "metadata": {},
     "output_type": "execute_result"
    },
    {
     "data": {
      "image/png": "[encoded data removed]",
      "text/plain": [
       "<Figure size 432x288 with 1 Axes>"
      ]
     },
     "metadata": {
      "needs_background": "light"
     },
     "output_type": "display_data"
    }
   ],
   "source": [
    "plt.hist(dataset.get('met_phi')[0:100000], histtype='step')"
   ]
  },
  {
   "cell_type": "code",
   "execution_count": 4,
   "metadata": {},
   "outputs": [],
   "source": [
    "i = 'th_phi' \n",
    "var = dataset.get(i)\n",
    "v2 = var-np.mean(var)\n",
    "v3 = v2/np.max(v2)/2.2\n",
    "v3 = v3[0:100000]\n"
   ]
  },
  {
   "cell_type": "code",
   "execution_count": 5,
   "metadata": {},
   "outputs": [
    {
     "data": {
      "text/plain": [
       "(array([10017., 10116., 10141.,  9844.,  9823., 10092.,  9969., 10001.,\n",
       "        10051.,  9946.]),\n",
       " array([-4.55166389e-01, -3.64195208e-01, -2.73224027e-01, -1.82252847e-01,\n",
       "        -9.12816656e-02, -3.10484660e-04,  9.06606963e-02,  1.81631877e-01,\n",
       "         2.72603058e-01,  3.63574239e-01,  4.54545420e-01]),\n",
       " <a list of 1 Patch objects>)"
      ]
     },
     "execution_count": 5,
     "metadata": {},
     "output_type": "execute_result"
    },
    {
     "data": {
      "image/png": "[encoded data removed]",
      "text/plain": [
       "<Figure size 432x288 with 1 Axes>"
      ]
     },
     "metadata": {
      "needs_background": "light"
     },
     "output_type": "display_data"
    }
   ],
   "source": [
    "plt.hist(v3, histtype='step')"
   ]
  },
  {
   "cell_type": "code",
   "execution_count": 6,
   "metadata": {},
   "outputs": [],
   "source": [
    "x, y = v3[0:len(v3)//2], v3[len(v3)//2:] # Uniformly distributed \n",
    "s = x**2 + y**2 \n",
    "\n",
    "z1 = x/np.sqrt(s)*np.sqrt(-2*np.log(s))\n",
    "z2 = y/np.sqrt(s)*np.sqrt(-2*np.log(s))\n",
    "\n",
    "z = np.append(z1, z2)\n",
    "max1 = np.max(np.abs(z))\n",
    "z = z/(max1)"
   ]
  },
  {
   "cell_type": "code",
   "execution_count": 7,
   "metadata": {},
   "outputs": [
    {
     "data": {
      "text/plain": [
       "(array([1.0000e+01, 2.8700e+02, 5.2650e+03, 2.3483e+04, 1.8672e+04,\n",
       "        1.2524e+04, 2.5099e+04, 1.3492e+04, 1.1140e+03, 5.4000e+01]),\n",
       " array([-1.        , -0.80805282, -0.61610564, -0.42415845, -0.23221127,\n",
       "        -0.04026409,  0.15168309,  0.34363028,  0.53557746,  0.72752464,\n",
       "         0.91947182]),\n",
       " <a list of 1 Patch objects>)"
      ]
     },
     "execution_count": 7,
     "metadata": {},
     "output_type": "execute_result"
    },
    {
     "data": {
      "image/png": "[encoded data removed]",
      "text/plain": [
       "<Figure size 432x288 with 1 Axes>"
      ]
     },
     "metadata": {
      "needs_background": "light"
     },
     "output_type": "display_data"
    }
   ],
   "source": [
    "plt.hist(z, histtype='step', color='r')"
   ]
  },
  {
   "cell_type": "code",
   "execution_count": 8,
   "metadata": {},
   "outputs": [],
   "source": [
    "z1, z2 = z[0:len(v3)//2]*max1, z[len(v3)//2:]*max1\n",
    "s1 = np.exp(-1*(z1**2+z2**2)/2)\n",
    "x1 = z1*np.sqrt(s1)/np.sqrt(-2*np.log(s1))\n",
    "y1 = z2*np.sqrt(s1)/np.sqrt(-2*np.log(s1))"
   ]
  },
  {
   "cell_type": "code",
   "execution_count": 9,
   "metadata": {},
   "outputs": [],
   "source": [
    "v = np.append(x1, y1)\n",
    "v = v*np.max(v2)*2.2+np.mean(var)"
   ]
  },
  {
   "cell_type": "code",
   "execution_count": 10,
   "metadata": {},
   "outputs": [
    {
     "data": {
      "text/plain": [
       "(array([10029., 10081., 10188., 10295., 10102., 10031.,  9837., 10011.,\n",
       "         9738.,  9688.]),\n",
       " array([-3.14158916e+00, -2.51327868e+00, -1.88496819e+00, -1.25665770e+00,\n",
       "        -6.28347206e-01, -3.67164612e-05,  6.28273773e-01,  1.25658426e+00,\n",
       "         1.88489475e+00,  2.51320524e+00,  3.14151573e+00]),\n",
       " <a list of 1 Patch objects>)"
      ]
     },
     "execution_count": 10,
     "metadata": {},
     "output_type": "execute_result"
    },
    {
     "data": {
      "image/png": "[encoded data removed]",
      "text/plain": [
       "<Figure size 432x288 with 1 Axes>"
      ]
     },
     "metadata": {
      "needs_background": "light"
     },
     "output_type": "display_data"
    }
   ],
   "source": [
    "plt.hist(v, histtype='step', color='r')\n",
    "plt.hist(dataset.get('met_phi')[0:100000], histtype='step', color='b')"
   ]
  },
  {
   "cell_type": "code",
   "execution_count": 11,
   "metadata": {},
   "outputs": [],
   "source": [
    "def phi_transform(arr):\n",
    "    mean = np.mean(arr)\n",
    "    arr = arr-mean\n",
    "    max0 = np.max(arr)\n",
    "    arr = arr/max0/2.2\n",
    "    x, y = arr[0:len(arr)//2], arr[len(arr)//2:]\n",
    "    s = x**2 + y**2 \n",
    "    z1 = x/np.sqrt(s)*np.sqrt(-2*np.log(s))\n",
    "    z2 = y/np.sqrt(s)*np.sqrt(-2*np.log(s))\n",
    "    z = np.append(z1, z2)\n",
    "    max1 = np.max(np.abs(z))\n",
    "    z = z/max1\n",
    "    \n",
    "    return (z, max0, max1, mean)\n",
    "\n",
    "def invphi_transform(z, max0, max1, mean):\n",
    "    z = z*max1\n",
    "    z1, z2 = z[0:len(z)//2], z[len(z)//2:]\n",
    "    s1 = np.exp(-1*(z1**2+z2**2)/2)\n",
    "    x1 = z1*np.sqrt(s1)/np.sqrt(-2*np.log(s1))\n",
    "    y1 = z2*np.sqrt(s1)/np.sqrt(-2*np.log(s1))\n",
    "    arr = np.append(x1, y1)\n",
    "    arr = arr*max0*2.2+mean\n",
    "    \n",
    "    return arr \n",
    "\n",
    "def meanmax_transform(arr):\n",
    "    mean = np.mean(arr)\n",
    "    arr = arr-mean\n",
    "    max0 = np.max(np.abs(arr))\n",
    "    z = arr/max0\n",
    "    return (z, max0, 0, mean)\n",
    "\n",
    "def invmeanmax_transform(z, max0, max1, mean):\n",
    "    return z*max0+mean\n",
    "    \n",
    "\n",
    "                               \n",
    "    \n",
    "    "
   ]
  },
  {
   "cell_type": "code",
   "execution_count": 12,
   "metadata": {},
   "outputs": [
    {
     "data": {
      "text/plain": [
       "(array([ 977., 1019., 1021., 1027.,  934.,  979.,  994., 1001., 1013.,\n",
       "        1035.]),\n",
       " array([-3.14125180e+00, -2.51296740e+00, -1.88468299e+00, -1.25639858e+00,\n",
       "        -6.28114176e-01,  1.70230865e-04,  6.28454638e-01,  1.25673904e+00,\n",
       "         1.88502345e+00,  2.51330786e+00,  3.14159226e+00]),\n",
       " <a list of 1 Patch objects>)"
      ]
     },
     "execution_count": 12,
     "metadata": {},
     "output_type": "execute_result"
    },
    {
     "data": {
      "image/png": "[encoded data removed]",
      "text/plain": [
       "<Figure size 432x288 with 1 Axes>"
      ]
     },
     "metadata": {
      "needs_background": "light"
     },
     "output_type": "display_data"
    }
   ],
   "source": [
    "arr = dataset.get('th_phi')[0:10000]\n",
    "z, max0, max1, mean = phi_transform(arr)\n",
    "cycle_error = invphi_transform(z, max0, max1, mean) - arr \n",
    "plt.hist(invphi_transform(z, max0, max1, mean), histtype='step', color='r')\n",
    "plt.hist(arr, histtype='step', color='b')"
   ]
  },
  {
   "cell_type": "code",
   "execution_count": null,
   "metadata": {},
   "outputs": [],
   "source": []
  }
 ],
 "metadata": {
  "kernelspec": {
   "display_name": "Python 3",
   "language": "python",
   "name": "python3"
  },
  "language_info": {
   "codemirror_mode": {
    "name": "ipython",
    "version": 3
   },
   "file_extension": ".py",
   "mimetype": "text/x-python",
   "name": "python",
   "nbconvert_exporter": "python",
   "pygments_lexer": "ipython3",
   "version": "3.8.3"
  }
 },
 "nbformat": 4,
 "nbformat_minor": 4
}
