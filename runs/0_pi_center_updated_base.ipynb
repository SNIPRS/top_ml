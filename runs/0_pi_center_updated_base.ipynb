{
 "cells": [
  {
   "cell_type": "code",
   "execution_count": 1,
   "metadata": {},
   "outputs": [],
   "source": [
    "import numpy as np\n",
    "import matplotlib.pyplot as plt\n",
    "import tensorflow as tf\n",
    "from tensorflow import keras\n",
    "from tensorflow.keras import layers\n",
    "from tensorflow.keras import regularizers \n",
    "import scipy.stats as stats\n",
    "import os \n",
    "import h5py\n",
    "import sys\n",
    "import re\n",
    "\n",
    "%matplotlib inline "
   ]
  },
  {
   "cell_type": "code",
   "execution_count": 2,
   "metadata": {},
   "outputs": [
    {
     "name": "stdout",
     "output_type": "stream",
     "text": [
      "<KeysViewHDF5 ['bh_eta', 'bh_m', 'bh_phi', 'bh_pt', 'bl_eta', 'bl_m', 'bl_phi', 'bl_pt', 'j1_DL1r', 'j1_eta', 'j1_isbtag', 'j1_m', 'j1_phi', 'j1_pt', 'j2_DL1r', 'j2_eta', 'j2_isbtag', 'j2_m', 'j2_phi', 'j2_pt', 'j3_DL1r', 'j3_eta', 'j3_isbtag', 'j3_m', 'j3_phi', 'j3_pt', 'j4_DL1r', 'j4_eta', 'j4_isbtag', 'j4_m', 'j4_phi', 'j4_pt', 'j5_DL1r', 'j5_eta', 'j5_isbtag', 'j5_m', 'j5_phi', 'j5_pt', 'j6_DL1r', 'j6_eta', 'j6_isbtag', 'j6_m', 'j6_phi', 'j6_pt', 'j7_DL1r', 'j7_eta', 'j7_isbtag', 'j7_m', 'j7_phi', 'j7_pt', 'j8_DL1r', 'j8_eta', 'j8_isbtag', 'j8_m', 'j8_phi', 'j8_pt', 'lep_eta', 'lep_m', 'lep_phi', 'lep_pt', 'met_met', 'met_phi', 'mttReco', 'mttTrue', 'th_eta', 'th_m', 'th_phi', 'th_pt', 'tl_eta', 'tl_m', 'tl_phi', 'tl_pt', 'true_lep_eta', 'true_lep_m', 'true_lep_phi', 'true_lep_pt', 'wh_eta', 'wh_m', 'wh_phi', 'wh_pt', 'wl_eta', 'wl_m', 'wl_phi', 'wl_pt']>\n"
     ]
    }
   ],
   "source": [
    "# Throw away lepton mass \n",
    "\n",
    "be1 = h5py.File('./../../../../../data/hongtao/variables_tt_re2.h5','r')\n",
    "print(be1.keys())\n",
    "dataset = be1"
   ]
  },
  {
   "cell_type": "code",
   "execution_count": 3,
   "metadata": {},
   "outputs": [],
   "source": [
    "X_keys = ['j1_pt', 'j1_eta', 'j1_phi', 'j1_m', 'j1_DL1r', 'j2_pt', 'j2_eta', 'j2_phi', 'j2_m', 'j2_DL1r', 'j3_pt', 'j3_eta', 'j3_phi', 'j3_m', 'j3_DL1r', 'j4_pt', 'j4_eta', 'j4_phi', 'j4_m', 'j4_DL1r', 'j5_pt', 'j5_eta', 'j5_phi', 'j5_m', 'j5_DL1r', 'j6_pt', 'j6_eta', 'j6_phi', 'j6_m', 'j6_DL1r', 'j7_pt', 'lep_pt', 'lep_eta', 'lep_phi', 'met_met', 'met_phi'] \n",
    "Y_keys = ['th_pt', 'th_eta','th_phi', 'tl_pt', 'tl_eta', 'tl_phi', 'wl_eta', 'wl_phi', 'wl_pt']\n",
    "phi_keys = ['j1_phi', 'j2_phi', 'j3_phi','j4_phi','j5_phi','j6_phi', 'lep_phi', 'met_phi', 'th_phi', 'tl_phi', 'wl_phi']\n",
    "eta_keys = ['j1_eta', 'j2_eta', 'j3_eta', 'j4_eta', 'j5_eta', 'j5_phi', 'j6_eta', 'lep_eta', 'th_eta', 'tl_eta', 'wl_eta']\n",
    "pt_keys = ['j1_pt', 'j2_pt','j3_pt','j4_pt','j5_pt','j6_pt','lep_pt','th_pt', 'tl_pt', 'wl_pt']\n",
    "m_keys = ['j1_m','j2_m', 'j3_m', 'j4_m', 'j5_m', 'j6_m', 'wl_m']\n",
    "DL1r_keys = ['j1_DL1r','j2_DL1r','j3_DL1r','j4_DL1r','j5_DL1r','j6_DL1r']\n",
    "\n",
    "Y_length = len(Y_keys)\n",
    "X_length = len(X_keys)\n",
    "crop0 =  100000 "
   ]
  },
  {
   "cell_type": "code",
   "execution_count": null,
   "metadata": {},
   "outputs": [],
   "source": []
  },
  {
   "cell_type": "code",
   "execution_count": 4,
   "metadata": {},
   "outputs": [],
   "source": [
    "# plt.figure(figsize=(8,8*Y_length))\n",
    "# for i in range(0, Y_length):\n",
    "#     plt.subplot(Y_length, 1, i+1)\n",
    "#     plt.hist(dataset.get(Y_keys[i]), 20, histtype='step')\n",
    "#     plt.xlabel(Y_keys[i])\n",
    "#     plt.ylabel('Frequency')"
   ]
  },
  {
   "cell_type": "code",
   "execution_count": 5,
   "metadata": {},
   "outputs": [],
   "source": [
    "lep_phi = np.array(dataset.get('lep_phi'))[0:crop0]\n",
    "def phi_transform(arr, max0, mean):\n",
    "    arr = (arr-mean)\n",
    "    arr = arr/max0/1.01/2+0.5\n",
    "    z = stats.norm.ppf(arr)/2.5\n",
    "    return z \n",
    "\n",
    "def invphi_transform(z, max0, mean):\n",
    "    arr = stats.norm.cdf(2.5*z)\n",
    "    arr = (arr-0.5)*max0*1.01*2+mean\n",
    "    return arr \n",
    "\n",
    "def jet_existence_dict():\n",
    "    dic = {}\n",
    "    for key in phi_keys:\n",
    "        variable = key.split('_')[0]\n",
    "        if bool(re.match('^j[0-9]+$', variable)): # If the variable is a jet\n",
    "            v = np.array(dataset.get(variable + '_pt'))[0:crop0]\n",
    "            dic[key] = (v>1)*1\n",
    "        else:\n",
    "            dic[key] = np.ones(crop0, dtype=int)\n",
    "    return dic\n",
    "        \n",
    "def phi1_transform(arr, max0, mean, exist):\n",
    "    w = (arr - lep_phi*exist) % (2*np.pi)\n",
    "    x = w - 2*np.pi*(w>np.pi)\n",
    "    y = x - (1-exist)*np.pi*1.1\n",
    "    y = y-mean\n",
    "    z = y/max0\n",
    "    return z\n",
    "\n",
    "def invphi1_transform(z, max0, mean, exist):\n",
    "    y = z*max0+mean\n",
    "    x = y+(1-exist)*np.pi*1.1\n",
    "    w = x + 2*np.pi*(x<0)\n",
    "    arr = (w + lep_phi*exist) % (2*np.pi)\n",
    "    arr = arr - 2*np.pi*(arr > np.pi)\n",
    "    return arr \n",
    "\n",
    "\n",
    "def phi2_transform(arr, max0, mean, exist):\n",
    "    w = (arr - lep_phi*exist) % (2*np.pi)\n",
    "    # x = w - 2*np.pi*(w>np.pi)\n",
    "    y = w - (1-exist)*0.2\n",
    "    z = y/(np.pi)\n",
    "    return z\n",
    "\n",
    "def invphi2_transform(z, max0, mean, exist):\n",
    "    y = z*np.pi\n",
    "    x = y+(1-exist)*0.2\n",
    "    # w = x + 2*np.pi*(x<0)\n",
    "    arr = (x + lep_phi*exist) % (2*np.pi)\n",
    "    arr = arr - 2*np.pi*(arr > np.pi)\n",
    "    return arr \n",
    "\n",
    "\n",
    "def pt_transform(arr, max0, mean):\n",
    "    return arr/max0\n",
    "\n",
    "def invpt_transform(z, max0, mean):\n",
    "    return z*max0 \n",
    "\n",
    "def meanmax_transform(arr, max0, mean):\n",
    "    arr = arr-mean\n",
    "    z = arr/max0\n",
    "    return z\n",
    "\n",
    "def invmeanmax_transform(z, max0, mean):\n",
    "    return z*max0+mean\n",
    "\n",
    "def get_maxmean_dict(): \n",
    "    to_get = [pt_keys, eta_keys, m_keys, DL1r_keys]\n",
    "    keys = ['pt', 'eta', 'm','DL1r']\n",
    "    maxmean= {} \n",
    "    \n",
    "    for i in range(4):\n",
    "        dset = to_get[i]\n",
    "        for x in dset:\n",
    "            arr = []\n",
    "            arr.append(np.array(dataset.get(x))[0:crop0])\n",
    "        arr = np.stack(arr,axis=1)\n",
    "        maxmean[keys[i]] = (np.max(np.abs(arr)), np.mean(arr))\n",
    "    \n",
    "    maxmean['phi'] = (np.pi, 0)\n",
    "    maxmean['met'] = (np.max(np.abs(dataset.get('met_met'))), np.mean(dataset.get('met_met')))\n",
    "    return maxmean \n",
    "\n",
    "def final_maxmean(array):\n",
    "    means = np.mean(array, axis=0)\n",
    "    array = array - means\n",
    "    maxs = np.max(np.abs(array), axis=0)\n",
    "    maxs = maxs + (maxs==0.0)*1\n",
    "    array = array/maxs\n",
    "    maxmean = np.stack([maxs, means], axis=1)\n",
    "    return array, maxmean \n",
    "\n",
    "def inverse_final_maxmean(array, maxmean0):\n",
    "    return array*maxmean0[:,0] + maxmean0[:,1]\n",
    "\n",
    "def scale_arrays(keys, maxmean_dict):\n",
    "    exist_dict = jet_existence_dict()\n",
    "    lep_phi = np.array(dataset.get('lep_phi'))[0:crop0]\n",
    "    \n",
    "    arrays = []\n",
    "    for key in keys:\n",
    "        var = np.array(dataset.get(key))[0:crop0]\n",
    "        if key in phi_keys:\n",
    "            max0, mean = maxmean_dict['phi']\n",
    "            exist = exist_dict[key]\n",
    "            if key == 'tl_phi' or key == 'wl_phi':\n",
    "                z = phi1_transform(var, max0, mean, exist) \n",
    "            else:\n",
    "                z = phi2_transform(var, max0, mean, exist)\n",
    "        elif key in pt_keys:\n",
    "            max0, mean = maxmean_dict['pt']\n",
    "            z = pt_transform(var, max0, mean)\n",
    "        elif key in m_keys:\n",
    "            max0, mean = maxmean_dict['m']\n",
    "            z = pt_transform(var, max0, mean)\n",
    "        else:\n",
    "            max0, mean = maxmean_dict[key.split('_')[1]]\n",
    "            z = meanmax_transform(var, max0, mean)\n",
    "        arrays.append(z)\n",
    "    arrays = np.stack(arrays, axis=1)\n",
    "    return final_maxmean(arrays)\n",
    "\n",
    "def invscale_arrays(keys, arrays, maxmean_dict, maxmean0):\n",
    "    arrays = inverse_final_maxmean(arrays, maxmean0)\n",
    "    exist_dict = jet_existence_dict()\n",
    "\n",
    "    total = []\n",
    "    for i in range(arrays.shape[1]):\n",
    "        z=arrays[:,i]\n",
    "        full_key = keys[i]\n",
    "        key = keys[i].split('_')[1]\n",
    "        if key == 'pt':\n",
    "            max0, mean = maxmean_dict[key]\n",
    "            total.append(invpt_transform(z, max0, mean))\n",
    "        elif key=='phi':\n",
    "            max0, mean = maxmean_dict[key]\n",
    "            exist = exist_dict[full_key]\n",
    "            if full_key == 'tl_phi' or full_key == 'wl_phi':\n",
    "                total.append(invphi1_transform(z, max0, mean, exist))\n",
    "            else:\n",
    "                total.append(invphi2_transform(z, max0, mean, exist))\n",
    "        elif key=='m':\n",
    "            max0, mean = maxmean_dict[key]\n",
    "            total.append(invpt_transform(z, max0, mean))\n",
    "        else:\n",
    "            max0, mean = maxmean_dict[key]\n",
    "            total.append(invmeanmax_transform(z, max0, mean))\n",
    "            \n",
    "    return np.stack(total,axis=1)\n"
   ]
  },
  {
   "cell_type": "code",
   "execution_count": 6,
   "metadata": {},
   "outputs": [],
   "source": [
    "# Convert into numpy arrays and mean normalize\n",
    "\n",
    "maxmean = get_maxmean_dict()\n",
    "total_X, TI_maxmean0 = scale_arrays(X_keys, maxmean)\n",
    "\n",
    "total_Y, TO_maxmean0 = scale_arrays(Y_keys, maxmean)\n",
    "out_scaled = invscale_arrays(Y_keys, total_Y, maxmean, TO_maxmean0)"
   ]
  },
  {
   "cell_type": "code",
   "execution_count": 7,
   "metadata": {},
   "outputs": [],
   "source": [
    "# Test inverse scaling\n",
    "\n",
    "if False:\n",
    "    plt.figure(figsize=(8,8*Y_length))\n",
    "    for i in range(len(Y_keys)):\n",
    "        plt.subplot(Y_length, 1, i+1)\n",
    "        plt.hist(dataset.get(Y_keys[i])[0:crop0] - out_scaled[:, i], 20, histtype='step', color='b')\n",
    "        plt.xlabel(Y_keys[i] + \" scaling error\")\n",
    "        plt.ylabel('Frequency')"
   ]
  },
  {
   "cell_type": "code",
   "execution_count": 9,
   "metadata": {
    "scrolled": true
   },
   "outputs": [],
   "source": [
    "# Create X and test array\n",
    "split = int(np.floor(0.8*crop0)) # 80/20 split \n",
    "shuffle = False\n",
    "\n",
    "if shuffle:\n",
    "    rng_state = np.random.get_state()\n",
    "    np.random.shuffle(totalX)\n",
    "    np.random.set_state(rng_state)\n",
    "    np.random.shuffle(total_Y)\n",
    "\n",
    "trainX, testX = total_X[0:split, :], total_X[split:,:]\n",
    "trainY, testY = total_Y[0:split,:], total_Y[split:,:]"
   ]
  },
  {
   "cell_type": "code",
   "execution_count": 10,
   "metadata": {},
   "outputs": [
    {
     "name": "stdout",
     "output_type": "stream",
     "text": [
      "(80000, 36) (80000, 9)\n",
      "(20000, 36) (20000, 9)\n"
     ]
    }
   ],
   "source": [
    "print(trainX.shape, trainY.shape)\n",
    "print(testX.shape, testY.shape)"
   ]
  },
  {
   "cell_type": "code",
   "execution_count": 11,
   "metadata": {},
   "outputs": [
    {
     "data": {
      "image/png": "[encoded data removed]",
      "text/plain": [
       "<Figure size 576x5184 with 9 Axes>"
      ]
     },
     "metadata": {
      "needs_background": "light"
     },
     "output_type": "display_data"
    }
   ],
   "source": [
    "# Histograms of Y variables \n",
    "show = True\n",
    "\n",
    "if show:\n",
    "    plt.figure(figsize=(8,8*Y_length))\n",
    "    for i in range(0, Y_length):\n",
    "        plt.subplot(Y_length, 1, i+1)\n",
    "        plt.hist(trainY[:,i], 20, histtype='step')\n",
    "        plt.xlabel(Y_keys[i])\n",
    "        plt.ylabel('Frequency')"
   ]
  },
  {
   "cell_type": "code",
   "execution_count": 12,
   "metadata": {},
   "outputs": [],
   "source": [
    "# Histograms of X variables \n",
    "show = False\n",
    "\n",
    "if show:\n",
    "    plt.figure(figsize=(8,8*X_length))\n",
    "    for i in range(0, X_length):\n",
    "        plt.subplot(X_length, 1, i+1)\n",
    "        plt.hist(trainX[:,i], 20, histtype='step')\n",
    "        plt.xlabel(X_keys[i])\n",
    "        plt.ylabel('Frequency')\n",
    "\n",
    " "
   ]
  },
  {
   "cell_type": "code",
   "execution_count": null,
   "metadata": {},
   "outputs": [],
   "source": [
    "# Build model\n",
    "\n",
    "# optimizer = keras.optimizers.RMSprop(learning_rate = 1e-5)\n",
    "optimizer = keras.optimizers.Adam(learning_rate=1e-6)\n",
    "callback = keras.callbacks.EarlyStopping(monitor='val_loss', patience=10)\n",
    "\n",
    "\n",
    "def build_model():\n",
    "    model = keras.Sequential([\n",
    "        layers.Dense(512, activation='relu', kernel_regularizer=regularizers.l2(0.0001),\n",
    "                     X_shape=[len(X_keys)]),\n",
    "        layers.Dense(256,  activation='relu'),\n",
    "        layers.Dense(256,  activation='relu'),\n",
    "        layers.Dense(256,  activation='relu'),\n",
    "        layers.Dense(128, activation='relu'),\n",
    "        layers.Dense(128, activation='relu'),\n",
    "        layers.Dense(128, activation='relu'),\n",
    "        layers.Dense(len(Y_keys),  activation='linear')\n",
    "    ])\n",
    "    \n",
    "    model.compile(loss='mse', optimizer= optimizer, metrics=['mse'])\n",
    "    return model \n",
    "\n",
    "# def build_model():\n",
    "#     model = keras.Sequential([\n",
    "#         layers.Dense(6, activation='linear', \n",
    "#                      X_shape=[len(X_keys)])])\n",
    "    \n",
    "#     model.compile(loss='mse', optimizer= optimizer, metrics=['mse'])\n",
    "    \n",
    "#     return model \n",
    "    "
   ]
  },
  {
   "cell_type": "code",
   "execution_count": null,
   "metadata": {},
   "outputs": [],
   "source": [
    "model = build_model()\n",
    "model.summary()"
   ]
  },
  {
   "cell_type": "code",
   "execution_count": null,
   "metadata": {},
   "outputs": [],
   "source": [
    "# Fit model\n",
    "\n",
    "Epochs= 2048\n",
    "\n",
    "history = model.fit(trainX, trainY, verbose=1, epochs=Epochs, \n",
    "                   validation_split=0.2, shuffle=False, callbacks=[callback],\n",
    "                   batch_size=512)\n"
   ]
  },
  {
   "cell_type": "code",
   "execution_count": null,
   "metadata": {},
   "outputs": [],
   "source": [
    "history.history.keys()\n",
    "model.save(model_name)"
   ]
  },
  {
   "cell_type": "code",
   "execution_count": null,
   "metadata": {},
   "outputs": [],
   "source": [
    "plt.figure(figsize=(12,8))\n",
    "plt.plot(history.history['loss'], label='training')\n",
    "plt.plot(history.history['val_loss'], label='validation')\n",
    "plt.xlabel('epoch')\n",
    "plt.ylabel('mse loss')\n",
    "plt.legend()\n",
    "plt.title('MSE loss')"
   ]
  },
  {
   "cell_type": "code",
   "execution_count": null,
   "metadata": {},
   "outputs": [],
   "source": [
    "predictions = model.predict(testX)"
   ]
  },
  {
   "cell_type": "code",
   "execution_count": null,
   "metadata": {},
   "outputs": [],
   "source": [
    "\n",
    "# Training \n",
    "crop = 100 \n",
    "\n",
    "train_small = model.predict(trainX[0:100,:])\n",
    "Y_small = trainY[0:100,:]\n",
    "\n",
    "def comparison_plot(compare, true):\n",
    "    plt.figure(figsize=(8,8*Y_length))\n",
    "    for i in range(0,Y_length):\n",
    "        plt.subplot(Y_length,1,i+1)\n",
    "        plt.plot(range(0,crop), compare[:,i], 'bo', markersize=3, label = 'Predictions')\n",
    "        plt.plot(range(0,crop), true[:,i], 'ro', markersize=3, label = 'True Value')\n",
    "        ym, yM = plt.ylim()\n",
    "        for x in range(100):\n",
    "            plt.vlines(x, color='g', linestyle='-', alpha=0.2, ymin= \n",
    "                        min(compare[x,i], true[x,i]), \n",
    "                        ymax= max(compare[x,i], true[x,i]))\n",
    "        plt.hlines(np.mean(true[:,i]), xmin=-20, xmax=crop+20, alpha=0.5)\n",
    "        MSE = 1/compare[:,i].size*np.sum((compare[:,i]- true[:,i])**2)\n",
    "        plt.xlabel('Epoch')\n",
    "        plt.ylabel(Y_keys[i])\n",
    "        plt.xlim(0, crop)\n",
    "        plt.title(Y_keys[i] + \" MSE: \" + str(MSE))\n",
    "        plt.legend()\n",
    "\n",
    "comparison_plot(train_small, Y_small)"
   ]
  },
  {
   "cell_type": "code",
   "execution_count": null,
   "metadata": {
    "scrolled": true
   },
   "outputs": [],
   "source": [
    "# Predictions\n",
    "\n",
    "predictions_small = predictions[0:100,:]\n",
    "testY_small = testY[0:100,:]\n",
    "\n",
    "MSE = 1/predictions.size*np.sum((predictions- testY)**2)\n",
    "print(\"total MSE: \" + str(MSE))\n",
    "\n",
    "for i in range(Y_length):\n",
    "    MSE = 1/predictions[:,i].size*np.sum((predictions[:,i] -testY[:,i])**2)\n",
    "    print(\"{0} MSE : \".format(Y_keys[i]), '%.10f'%MSE)"
   ]
  },
  {
   "cell_type": "code",
   "execution_count": null,
   "metadata": {},
   "outputs": [],
   "source": [
    "# Unscaled Histograms \n",
    "\n",
    "plt.figure(figsize=(8,8*Y_length))\n",
    "for i in range(len(Y_keys)):\n",
    "    plt.subplot(Y_length, 1, i+1)\n",
    "    hist0, bin_edges = np.histogram(testY[:, i], bins=40)\n",
    "    plt.hist(testY[:,i], bin_edges, histtype='step', color='b', label='true values', density=True)\n",
    "    plt.hist(predictions[:,i], bin_edges, histtype='step', color='r', label='predictions', density=True)\n",
    "    plt.xlabel(Y_keys[i] +\" \" +str(np.max(predictions[:,i])) + \" \" + str(np.min(predictions[:,i])))\n",
    "    plt.legend()\n",
    "    plt.ylabel('Frequency')"
   ]
  },
  {
   "cell_type": "code",
   "execution_count": null,
   "metadata": {},
   "outputs": [],
   "source": [
    "# True - Predicted \n",
    "\n",
    "plt.figure(figsize=(8,8*Y_length))\n",
    "for i in range(len(Y_keys)):\n",
    "    plt.subplot(Y_length, 1, i+1)\n",
    "    diff = testY[:,i] - predictions[:,i]\n",
    "    hist0, bin_edges = np.histogram(testY[:, i], bins=40)\n",
    "    plt.hist(diff, bin_edges, histtype='step', color='purple', label='true - predicted', density=True)\n",
    "    plt.xlabel(\"Mean: {0}, Std: {1}\".format(np.mean(diff), np.std(diff)))\n",
    "    plt.title(Y_keys[i])\n",
    "    plt.legend()\n",
    "    plt.ylabel('Frequency')"
   ]
  },
  {
   "cell_type": "code",
   "execution_count": null,
   "metadata": {},
   "outputs": [],
   "source": [
    "total_Y, TO_maxmean0 = scale_arrays(Y_keys, maxmean)\n",
    "out_scaled = invscale_arrays(Y_keys, total_Y, maxmean, TO_maxmean0)[split:,:]\n",
    "\n",
    "total_predictions = model.predict(total_X)\n",
    "predict_scaled = invscale_arrays(Y_keys, total_predictions, maxmean, TO_maxmean0)[split:,:]\n"
   ]
  },
  {
   "cell_type": "code",
   "execution_count": null,
   "metadata": {
    "scrolled": true
   },
   "outputs": [],
   "source": [
    "# Histograms to the original scale \n",
    "\n",
    "# out_scaled = invscale_arrays(Y_keys, out_max0, out_mean, total_Y)\n",
    "# out_scaled = invscale_arrays(Y_keys, testY, maxmean)\n",
    "# predict_scaled = invscale_arrays(Y_keys, out_max0, out_mean, total_predictions)[split:,:]\n",
    "\n",
    "\n",
    "plt.figure(figsize=(8,8*Y_length))\n",
    "for i in range(len(Y_keys)):\n",
    "    plt.subplot(Y_length, 1, i+1)\n",
    "    # hist0, bin_edges = np.histogram(out_scaled[:, i], bins=20)\n",
    "    hist, edges = np.histogram(out_scaled[:, i], 40)\n",
    "    plt.hist(out_scaled[:, i], edges, histtype='step', color='b', label='true values', density=True)\n",
    "    plt.hist(predict_scaled[:, i], edges, histtype='step', color='r', label='predictions', density=True)\n",
    "    plt.xlabel(Y_keys[i])\n",
    "    plt.legend()\n",
    "    plt.ylabel('Frequency')"
   ]
  },
  {
   "cell_type": "code",
   "execution_count": null,
   "metadata": {},
   "outputs": [],
   "source": [
    "# True - Predicted \n",
    "\n",
    "plt.figure(figsize=(8,8*Y_length))\n",
    "for i in range(len(Y_keys)):\n",
    "    plt.subplot(Y_length, 1, i+1)\n",
    "    diff = testY[:,i] - predictions[:,i]\n",
    "    hist0, bin_edges = np.histogram(testY[:, i], bins=40)\n",
    "    plt.hist(diff, bin_edges, histtype='step', color='purple', label='true - predicted', density=True)\n",
    "    plt.xlabel(\"Mean: {0}, Std: {1}\".format(np.mean(diff), np.std(diff)))\n",
    "    plt.title(Y_keys[i])\n",
    "    plt.legend()\n",
    "    plt.ylabel('Frequency')"
   ]
  },
  {
   "cell_type": "code",
   "execution_count": null,
   "metadata": {},
   "outputs": [],
   "source": [
    "# Difference value histograms \n",
    "plt.figure(figsize=(8,8*Y_length))\n",
    "for i in range(len(Y_keys)):\n",
    "    plt.subplot(Y_length, 1, i+1)\n",
    "    # hist0, bin_edges = np.histogram(out_scaled[:, i], bins=20)\n",
    "    diff = -predict_scaled[:, i]+out_scaled[:, i]\n",
    "    plt.hist(diff, 40, histtype='step', color='purple', label='True - Predicted', density=True)\n",
    "    plt.xlabel(\"Mean: {0}, Std: {1}\".format(np.mean(diff), np.std(diff)))\n",
    "    plt.title(Y_keys[i])\n",
    "    plt.legend()\n",
    "    plt.ylabel('Frequency')"
   ]
  },
  {
   "cell_type": "code",
   "execution_count": null,
   "metadata": {},
   "outputs": [],
   "source": [
    "for i in range(Y_length):\n",
    "    if Y_keys[i].split(\"_\")[1] == 'phi':\n",
    "        mod_pi = (predict_scaled[:,i] - out_scaled[:,i]) % (2*np.pi)\n",
    "        mod_pi = mod_pi - 2*np.pi*(mod_pi > np.pi)\n",
    "        MSE = 1/predict_scaled[:,i].size*np.sum((mod_pi)**2)\n",
    "    else:\n",
    "        MSE = 1/predict_scaled[:,i].size*np.sum((predict_scaled[:,i] - out_scaled[:,i])**2)\n",
    "    print(\"Original Scale {0} MSE : \".format(Y_keys[i]), '%.10f'%MSE)"
   ]
  },
  {
   "cell_type": "code",
   "execution_count": null,
   "metadata": {},
   "outputs": [],
   "source": [
    "plt.figure(figsize=(8,8*Y_length))\n",
    "for i in range(Y_length):\n",
    "    plt.subplot(Y_length, 1, i+1)\n",
    "    # hist0, bin_edges = np.histogram(out_scaled[:, i], bins=20)\n",
    "    plt.plot(out_scaled[:, i], predict_scaled[:, i]-out_scaled[:, i], 'o', color='purple', label='True - Predicted', markersize=2)\n",
    "    plt.xlabel('True: ' + Y_keys[i])\n",
    "    plt.legend()\n",
    "    plt.ylabel('Difference')"
   ]
  },
  {
   "cell_type": "code",
   "execution_count": null,
   "metadata": {
    "scrolled": false
   },
   "outputs": [],
   "source": []
  },
  {
   "cell_type": "code",
   "execution_count": null,
   "metadata": {},
   "outputs": [],
   "source": []
  },
  {
   "cell_type": "code",
   "execution_count": null,
   "metadata": {},
   "outputs": [],
   "source": []
  },
  {
   "cell_type": "code",
   "execution_count": null,
   "metadata": {},
   "outputs": [],
   "source": []
  },
  {
   "cell_type": "code",
   "execution_count": null,
   "metadata": {},
   "outputs": [],
   "source": []
  },
  {
   "cell_type": "code",
   "execution_count": null,
   "metadata": {},
   "outputs": [],
   "source": []
  }
 ],
 "metadata": {
  "kernelspec": {
   "display_name": "Python 3",
   "language": "python",
   "name": "python3"
  },
  "language_info": {
   "codemirror_mode": {
    "name": "ipython",
    "version": 3
   },
   "file_extension": ".py",
   "mimetype": "text/x-python",
   "name": "python",
   "nbconvert_exporter": "python",
   "pygments_lexer": "ipython3",
   "version": "3.7.7"
  }
 },
 "nbformat": 4,
 "nbformat_minor": 4
}
