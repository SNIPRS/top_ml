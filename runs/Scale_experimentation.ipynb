{
 "cells": [
  {
   "cell_type": "code",
   "execution_count": 1,
   "metadata": {},
   "outputs": [],
   "source": [
    "import numpy as np\n",
    "import matplotlib.pyplot as plt\n",
    "import tensorflow as tf\n",
    "from tensorflow import keras\n",
    "from tensorflow.keras import layers\n",
    "from tensorflow.keras import regularizers \n",
    "import h5py\n",
    "import tensorflow.keras.backend as K\n",
    "import re\n",
    "%matplotlib inline \n",
    "\n",
    "# Throw away lepton mass \n",
    "\n",
    "be1 = h5py.File('./../../../../../data/hongtao/variables_tt_re2.h5','r')\n",
    "\n",
    "dataset = be1\n",
    "\n",
    "input_keys = ['j1_pt', 'j1_eta', 'j1_phi', 'j1_m', 'j1_DL1r', 'j2_pt', 'j2_eta', 'j2_phi', 'j2_m', 'j2_DL1r', 'j3_pt', 'j3_eta', 'j3_phi', 'j3_m', 'j3_DL1r', 'j4_pt', 'j4_eta', 'j4_phi', 'j4_m', 'j4_DL1r', 'j5_pt', 'j5_eta', 'j5_phi', 'j5_m', 'j5_DL1r', 'j6_pt', 'j6_eta', 'j6_phi', 'j6_m', 'j6_DL1r', 'j7_pt', 'lep_pt', 'lep_eta', 'lep_phi', 'met_met', 'met_phi'] \n",
    "output_keys = ['th_pt', 'th_eta','th_phi', 'tl_pt', 'tl_eta', 'tl_phi', 'wl_eta', 'wl_phi', 'wl_pt']\n",
    "phi_keys = ['j1_phi', 'j2_phi', 'j3_phi','j4_phi','j5_phi','j6_phi', 'lep_phi', 'met_phi', 'th_phi', 'tl_phi', 'wl_phi']\n",
    "eta_keys = ['j1_eta', 'j2_eta', 'j3_eta', 'j4_eta', 'j5_eta', 'j5_phi', 'j6_eta', 'lep_eta', 'th_eta', 'tl_eta', 'wl_eta']\n",
    "pt_keys = ['j1_pt', 'j2_pt','j3_pt','j4_pt','j5_pt','j6_pt','lep_pt','th_pt', 'tl_pt', 'wl_pt']\n",
    "m_keys = ['j1_m','j2_m', 'j3_m', 'j4_m', 'j5_m', 'j6_m']\n",
    "DL1r_keys = ['j1_DL1r','j2_DL1r','j3_DL1r','j4_DL1r','j5_DL1r','j6_DL1r']\n",
    "\n",
    "output_length = len(output_keys)\n",
    "input_length = len(input_keys)\n",
    "crop0 =  100000 "
   ]
  },
  {
   "cell_type": "code",
   "execution_count": 2,
   "metadata": {},
   "outputs": [],
   "source": [
    "lep_phi = np.array(dataset.get('lep_phi'))[0:crop0]\n",
    "\n",
    "\n",
    "def phi_transform(arr, max0, mean):\n",
    "    arr = (arr-mean)\n",
    "    arr = arr/max0/1.01/2+0.5\n",
    "    z = stats.norm.ppf(arr)/2.5\n",
    "    return z \n",
    "\n",
    "def invphi_transform(z, max0, mean):\n",
    "    arr = stats.norm.cdf(2.5*z)\n",
    "    arr = (arr-0.5)*max0*1.01*2+mean\n",
    "    return arr \n",
    "\n",
    "def jet_existence_dict():\n",
    "    dic = {}\n",
    "    for key in phi_keys:\n",
    "        variable = key.split('_')[0]\n",
    "        if bool(re.match('^j[0-9]+$', variable)): # If the variable is a jet\n",
    "            v = np.array(dataset.get(variable + '_pt'))[0:crop0]\n",
    "            dic[key] = (v>1)*1\n",
    "        else:\n",
    "            dic[key] = np.ones(crop0, dtype=int)\n",
    "    return dic\n",
    "        \n",
    "def phi1_transform(arr, max0, mean, exist):\n",
    "    w = (arr - lep_phi*exist) % (2*np.pi)\n",
    "    x = w - 2*np.pi*(w>np.pi)\n",
    "    y = x - (1-exist)*np.pi*1.1\n",
    "    y = y-mean\n",
    "    z = y/max0\n",
    "    return z\n",
    "\n",
    "def invphi1_transform(z, max0, mean, exist):\n",
    "    y = z*max0+mean\n",
    "    x = y+(1-exist)*np.pi*1.1\n",
    "    w = x + 2*np.pi*(x<0)\n",
    "    arr = (w + lep_phi*exist) % (2*np.pi)\n",
    "    arr = arr - 2*np.pi*(arr > np.pi)\n",
    "    return arr \n",
    "\n",
    "\n",
    "def phi2_transform(arr, max0, mean, exist):\n",
    "    w = (arr - lep_phi*exist) % (2*np.pi)\n",
    "    # x = w - 2*np.pi*(w>np.pi)\n",
    "    y = w - (1-exist)*0.2\n",
    "    z = y/(np.pi)\n",
    "    return z\n",
    "\n",
    "def invphi2_transform(z, max0, mean, exist):\n",
    "    y = z*np.pi\n",
    "    x = y+(1-exist)*0.2\n",
    "    # w = x + 2*np.pi*(x<0)\n",
    "    arr = (x + lep_phi*exist) % (2*np.pi)\n",
    "    arr = arr - 2*np.pi*(arr > np.pi)\n",
    "    return arr \n",
    "\n",
    "def phi3_transform(arr, max0, mean, exist):\n",
    "    w = (arr - lep_phi*exist) % (2*np.pi)\n",
    "    return np.sin(w) - 1.2*(1-exist), np.cos(w) - 2.2*(1-exist) \n",
    "    \n",
    "def invphi3_transform(z1, z2, max0, mean, exist):\n",
    "    w1 = z1 + 1.2*(1-exist)\n",
    "    w2 = z2 + 2.2*(1-exist)\n",
    "    w = np.arctan2(w1, w2)\n",
    "    arr = (w + lep_phi*exist) % (2*np.pi)\n",
    "    arr = arr - 2*np.pi*(arr > np.pi)\n",
    "    return arr\n",
    "\n",
    "def pt_transform(arr, max0, mean):\n",
    "    return arr/max0\n",
    "\n",
    "def invpt_transform(z, max0, mean):\n",
    "    return z*max0 \n",
    "\n",
    "def meanmax_transform(arr, max0, mean):\n",
    "    arr = arr-mean\n",
    "    z = arr/max0\n",
    "    return z\n",
    "\n",
    "def invmeanmax_transform(z, max0, mean):\n",
    "    return z*max0+mean\n",
    "\n",
    "def get_maxmean_dict(): \n",
    "    to_get = [pt_keys, eta_keys, m_keys, DL1r_keys]\n",
    "    keys = ['pt', 'eta', 'm','DL1r']\n",
    "    maxmean= {} \n",
    "    \n",
    "    for i in range(4):\n",
    "        dset = to_get[i]\n",
    "        for x in dset:\n",
    "            arr = []\n",
    "            arr.append(np.array(dataset.get(x))[0:crop0])\n",
    "        arr = np.stack(arr,axis=1)\n",
    "        maxmean[keys[i]] = (np.max(np.abs(arr)), np.mean(arr))\n",
    "    \n",
    "    maxmean['phi'] = (np.pi, 0)\n",
    "    maxmean['met'] = (np.max(np.abs(dataset.get('met_met'))), np.mean(dataset.get('met_met')))\n",
    "    return maxmean \n",
    "    \n",
    "def scale_arrays(keys, maxmean_dict):\n",
    "    names = []\n",
    "    exist_dict = jet_existence_dict()\n",
    "    lep_phi = np.array(dataset.get('lep_phi'))[0:crop0]\n",
    "    \n",
    "    arrays = []\n",
    "    for key in keys:\n",
    "        var = np.array(dataset.get(key))[0:crop0]\n",
    "        if key in phi_keys:\n",
    "            max0, mean = maxmean_dict['phi']\n",
    "            exist = exist_dict[key]\n",
    "            zsin, zcos = phi3_transform(var, max0, mean, exist)\n",
    "            arrays.append(zsin)\n",
    "            arrays.append(zcos)\n",
    "            names.append(key +'-sin')\n",
    "            names.append(key + '-cos')\n",
    "        else:\n",
    "            if key in pt_keys:\n",
    "                max0, mean = maxmean_dict['pt']\n",
    "                z = pt_transform(var, max0, mean)\n",
    "            elif key in m_keys:\n",
    "                max0, mean = maxmean_dict['m']\n",
    "                z = pt_transform(var, max0, mean)\n",
    "            else:\n",
    "                max0, mean = maxmean_dict[key.split('_')[1]]\n",
    "                z = meanmax_transform(var, max0, mean)\n",
    "            arrays.append(z)\n",
    "            names.append(key)\n",
    "    arrays = np.stack(arrays, axis=1)\n",
    "    return arrays, names\n",
    "\n",
    "def invscale_arrays(keys, arrays, maxmean_dict, names):\n",
    "    exist_dict = jet_existence_dict()\n",
    "    total = []\n",
    "    i = 0\n",
    "    while i< arrays.shape[1]:\n",
    "        full_key = names[i]\n",
    "        key = names[i].split('_')[1]\n",
    "        if key[0:3] == 'phi':\n",
    "            zsin = arrays\n",
    "            max0, mean = maxmean_dict['phi']\n",
    "            exist = exist_dict[full_key.split('-')[0]]\n",
    "            zsin = arrays[:,i]\n",
    "            zcos = arrays[:,i+1]\n",
    "            total.append(invphi3_transform(zsin, zcos, max0, mean, exist))\n",
    "            i+=2\n",
    "        else:\n",
    "            z=arrays[:,i]\n",
    "            if key == 'pt':\n",
    "                max0, mean = maxmean_dict[key]\n",
    "                total.append(invpt_transform(z, max0, mean))\n",
    "            elif key=='m':\n",
    "                max0, mean = maxmean_dict[key]\n",
    "                total.append(invpt_transform(z, max0, mean))\n",
    "            else:\n",
    "                max0, mean = maxmean_dict[key]\n",
    "                total.append(invmeanmax_transform(z, max0, mean))\n",
    "            i+=1\n",
    "    return np.stack(total,axis=1) "
   ]
  },
  {
   "cell_type": "code",
   "execution_count": 3,
   "metadata": {},
   "outputs": [
    {
     "data": {
      "image/png": "[encoded data removed]",
      "text/plain": [
       "<Figure size 432x288 with 1 Axes>"
      ]
     },
     "metadata": {
      "needs_background": "light"
     },
     "output_type": "display_data"
    }
   ],
   "source": [
    "var = dataset.get('th_phi')[0:crop0]\n",
    "\n",
    "plt.hist(var, 30, histtype='step')\n",
    "plt.show()"
   ]
  },
  {
   "cell_type": "code",
   "execution_count": 4,
   "metadata": {},
   "outputs": [
    {
     "data": {
      "image/png": "[encoded data removed]",
      "text/plain": [
       "<Figure size 432x288 with 1 Axes>"
      ]
     },
     "metadata": {
      "needs_background": "light"
     },
     "output_type": "display_data"
    }
   ],
   "source": [
    "max0, mean0, exist = np.pi, 0.0, np.ones(var.size)\n",
    "\n",
    "phi1_var = phi1_transform(var, max0, mean0, exist)\n",
    "plt.hist(phi1_var, 30, histtype='step')\n",
    "plt.show()"
   ]
  },
  {
   "cell_type": "code",
   "execution_count": 5,
   "metadata": {},
   "outputs": [
    {
     "data": {
      "image/png": "[encoded data removed]",
      "text/plain": [
       "<Figure size 432x288 with 1 Axes>"
      ]
     },
     "metadata": {
      "needs_background": "light"
     },
     "output_type": "display_data"
    }
   ],
   "source": [
    "sin_var, cos_var = phi3_transform(var, max0, mean0, exist)\n",
    "plt.hist(sin_var, 30, histtype='step', color='b', label='sin')\n",
    "# plt.hist(cos_var, 30, histtype='step', color='r', label='cos')\n",
    "plt.legend()\n",
    "plt.show()"
   ]
  },
  {
   "cell_type": "code",
   "execution_count": 6,
   "metadata": {},
   "outputs": [
    {
     "data": {
      "image/png": "[encoded data removed]",
      "text/plain": [
       "<Figure size 432x288 with 1 Axes>"
      ]
     },
     "metadata": {
      "needs_background": "light"
     },
     "output_type": "display_data"
    }
   ],
   "source": [
    "sin0_var = np.sin(phi1_var*np.pi)\n",
    "plt.hist(sin0_var, 30, histtype='step')\n",
    "plt.show()"
   ]
  },
  {
   "cell_type": "code",
   "execution_count": 7,
   "metadata": {},
   "outputs": [
    {
     "data": {
      "image/png": "[encoded data removed]",
      "text/plain": [
       "<Figure size 432x288 with 1 Axes>"
      ]
     },
     "metadata": {
      "needs_background": "light"
     },
     "output_type": "display_data"
    }
   ],
   "source": [
    "plt.hist(sin0_var-sin_var, 30, histtype='step')\n",
    "plt.show()"
   ]
  },
  {
   "cell_type": "code",
   "execution_count": 8,
   "metadata": {},
   "outputs": [],
   "source": [
    "def phi4_transform(arr, max0, mean, exist):\n",
    "    w = (arr - lep_phi*exist) % (2*np.pi)\n",
    "    sin = 2/np.pi*np.arcsin(np.sin(w)) - 1.2*(1-exist)\n",
    "    cos = 2/np.pi*np.arcsin(np.cos(w)) - 2.2*(1-exist)\n",
    "    return (sin, cos)\n",
    "\n",
    "def invphi3_transform(z1, z2, max0, mean, exist):\n",
    "    w1 = z1 + 1.2*(1-exist)\n",
    "    w2 = z2 + 2.2*(1-exist)\n",
    "    w = np.arctan2(w1, w2)\n",
    "    arr = (w + lep_phi*exist) % (2*np.pi)\n",
    "    arr = arr - 2*np.pi*(arr > np.pi)\n",
    "    return arr\n",
    "\n",
    "def invphi4_transform(z, max0, mean, exist):\n",
    "    pi = np.pi\n",
    "    sin, cos = z[0] + 1.2*(1-exist), z[1] + 2.2*(1-exist)\n",
    "    sin0, cos0 = np.sin(pi/2*sin),  np.sin(pi/2*cos)\n",
    "    w = np.arctan2(sin0, cos0)\n",
    "    x = (w + lep_phi*exist) % (2*pi)\n",
    "    x = x-2*np.pi*(x>pi)\n",
    "    return x\n",
    "    "
   ]
  },
  {
   "cell_type": "code",
   "execution_count": 9,
   "metadata": {},
   "outputs": [
    {
     "data": {
      "image/png": "[encoded data removed]",
      "text/plain": [
       "<Figure size 432x288 with 1 Axes>"
      ]
     },
     "metadata": {
      "needs_background": "light"
     },
     "output_type": "display_data"
    }
   ],
   "source": [
    "sin1_var, cos1_var = phi4_transform(var, max0, mean0, exist)\n",
    "plt.hist(sin1_var, 30, histtype='step', color='b', label='sin')\n",
    "plt.hist(cos1_var, 30, histtype='step', color='r', label='cos')\n",
    "plt.legend()\n",
    "plt.show()"
   ]
  },
  {
   "cell_type": "code",
   "execution_count": 10,
   "metadata": {},
   "outputs": [
    {
     "data": {
      "image/png": "[encoded data removed]",
      "text/plain": [
       "<Figure size 432x288 with 1 Axes>"
      ]
     },
     "metadata": {
      "needs_background": "light"
     },
     "output_type": "display_data"
    }
   ],
   "source": [
    "inv_phi4 = invphi4_transform(phi4_transform(var, max0, mean0, exist), max0, mean0, exist)\n",
    "plt.hist(inv_phi4 - var, 30, histtype='step', color='b')\n",
    "plt.show()"
   ]
  },
  {
   "cell_type": "code",
   "execution_count": null,
   "metadata": {},
   "outputs": [],
   "source": []
  }
 ],
 "metadata": {
  "kernelspec": {
   "display_name": "Python 3",
   "language": "python",
   "name": "python3"
  },
  "language_info": {
   "codemirror_mode": {
    "name": "ipython",
    "version": 3
   },
   "file_extension": ".py",
   "mimetype": "text/x-python",
   "name": "python",
   "nbconvert_exporter": "python",
   "pygments_lexer": "ipython3",
   "version": "3.7.7"
  }
 },
 "nbformat": 4,
 "nbformat_minor": 4
}
